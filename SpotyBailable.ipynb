{
  "nbformat": 4,
  "nbformat_minor": 0,
  "metadata": {
    "colab": {
      "provenance": [],
      "authorship_tag": "ABX9TyMHJNA+xrvoi2u8j/GzvhWP",
      "include_colab_link": true
    },
    "kernelspec": {
      "name": "python3",
      "display_name": "Python 3"
    },
    "language_info": {
      "name": "python"
    }
  },
  "cells": [
    {
      "cell_type": "markdown",
      "metadata": {
        "id": "view-in-github",
        "colab_type": "text"
      },
      "source": [
        "<a href=\"https://colab.research.google.com/github/HamedPro3D/Laboratorio1/blob/main/SpotyBailable.ipynb\" target=\"_parent\"><img src=\"https://colab.research.google.com/assets/colab-badge.svg\" alt=\"Open In Colab\"/></a>"
      ]
    },
    {
      "cell_type": "code",
      "execution_count": null,
      "metadata": {
        "id": "qzExOhf3704x"
      },
      "outputs": [],
      "source": [
        "!pip "
      ]
    },
    {
      "cell_type": "code",
      "source": [
        "!pip download spotipy"
      ],
      "metadata": {
        "id": "EpgiyvRTIQl1"
      },
      "execution_count": null,
      "outputs": []
    },
    {
      "cell_type": "code",
      "source": [
        "!pip install spotipy"
      ],
      "metadata": {
        "id": "C3SdVihAIXlV"
      },
      "execution_count": null,
      "outputs": []
    },
    {
      "cell_type": "code",
      "source": [
        "import spotipy\n"
      ],
      "metadata": {
        "id": "EVNTwCTzJhLE"
      },
      "execution_count": 24,
      "outputs": []
    },
    {
      "cell_type": "code",
      "source": [
        "import json\n",
        "import spotipy\n",
        "import webbrowser\n"
      ],
      "metadata": {
        "id": "gbqEiuaZOZtW"
      },
      "execution_count": 25,
      "outputs": []
    },
    {
      "cell_type": "code",
      "source": [
        "username = 'Hamed'\n",
        "clientID = '446a9b4aba064944965ad6b13fe6043f'\n",
        "clientSecret = '8f7c4891fb1d4c10ba534873b00e651d'\n",
        "redirect_uri = 'http://google.com/callback/'\n"
      ],
      "metadata": {
        "id": "T_oCNr8gQFV9"
      },
      "execution_count": 26,
      "outputs": []
    },
    {
      "cell_type": "code",
      "source": [
        "oauth_object = spotipy.SpotifyOAuth(clientID, clientSecret, redirect_uri)\n",
        "token_dict = oauth_object.get_access_token()\n",
        "token = token_dict['access_token']\n",
        "spotifyObject = spotipy.Spotify(auth=token)\n",
        "user_name = spotifyObject.current_user()\n",
        "\n",
        "# To print the response in readable format.\n",
        "print(json.dumps(user_name, sort_keys=True, indent=4))\n"
      ],
      "metadata": {
        "colab": {
          "base_uri": "https://localhost:8080/",
          "height": 237
        },
        "id": "9LLGKDUPQeRL",
        "outputId": "f5784436-ee08-4ede-daea-b5067c3416ad"
      },
      "execution_count": 35,
      "outputs": [
        {
          "output_type": "error",
          "ename": "TypeError",
          "evalue": "ignored",
          "traceback": [
            "\u001b[0;31m---------------------------------------------------------------------------\u001b[0m",
            "\u001b[0;31mTypeError\u001b[0m                                 Traceback (most recent call last)",
            "\u001b[0;32m<ipython-input-35-49f07e9a50ca>\u001b[0m in \u001b[0;36m<module>\u001b[0;34m\u001b[0m\n\u001b[1;32m      1\u001b[0m \u001b[0moauth_object\u001b[0m \u001b[0;34m=\u001b[0m \u001b[0mspotipy\u001b[0m\u001b[0;34m.\u001b[0m\u001b[0mSpotifyOAuth\u001b[0m\u001b[0;34m(\u001b[0m\u001b[0mclientID\u001b[0m\u001b[0;34m,\u001b[0m \u001b[0mclientSecret\u001b[0m\u001b[0;34m,\u001b[0m \u001b[0mredirect_uri\u001b[0m\u001b[0;34m)\u001b[0m\u001b[0;34m\u001b[0m\u001b[0;34m\u001b[0m\u001b[0m\n\u001b[0;32m----> 2\u001b[0;31m \u001b[0mtoken_dict\u001b[0m \u001b[0;34m=\u001b[0m \u001b[0moauth_object\u001b[0m\u001b[0;34m(\u001b[0m\u001b[0;34m)\u001b[0m\u001b[0;34m\u001b[0m\u001b[0;34m\u001b[0m\u001b[0m\n\u001b[0m\u001b[1;32m      3\u001b[0m \u001b[0mtoken\u001b[0m \u001b[0;34m=\u001b[0m \u001b[0mtoken_dict\u001b[0m\u001b[0;34m[\u001b[0m\u001b[0;34m'access_token'\u001b[0m\u001b[0;34m]\u001b[0m\u001b[0;34m\u001b[0m\u001b[0;34m\u001b[0m\u001b[0m\n\u001b[1;32m      4\u001b[0m \u001b[0mspotifyObject\u001b[0m \u001b[0;34m=\u001b[0m \u001b[0mspotipy\u001b[0m\u001b[0;34m.\u001b[0m\u001b[0mSpotify\u001b[0m\u001b[0;34m(\u001b[0m\u001b[0mauth\u001b[0m\u001b[0;34m=\u001b[0m\u001b[0mtoken\u001b[0m\u001b[0;34m)\u001b[0m\u001b[0;34m\u001b[0m\u001b[0;34m\u001b[0m\u001b[0m\n\u001b[1;32m      5\u001b[0m \u001b[0muser_name\u001b[0m \u001b[0;34m=\u001b[0m \u001b[0mspotifyObject\u001b[0m\u001b[0;34m.\u001b[0m\u001b[0mcurrent_user\u001b[0m\u001b[0;34m(\u001b[0m\u001b[0;34m)\u001b[0m\u001b[0;34m\u001b[0m\u001b[0;34m\u001b[0m\u001b[0m\n",
            "\u001b[0;31mTypeError\u001b[0m: 'SpotifyOAuth' object is not callable"
          ]
        }
      ]
    },
    {
      "cell_type": "code",
      "source": [
        "while True:\n",
        "\tprint(\"Welcome to the project, \" + user_name['display_name'])\n",
        "\tprint(\"0 - Exit the console\")\n",
        "\tprint(\"1 - Search for a Song\")\n",
        "\tuser_input = int(input(\"Enter Your Choice: \"))\n",
        "\tif user_input == 1:\n",
        "\t\tsearch_song = input(\"Enter the song name: \")\n",
        "\t\tresults = spotifyObject.search(search_song, 1, 0, \"track\")\n",
        "\t\tsongs_dict = results['tracks']\n",
        "\t\tsong_items = songs_dict['items']\n",
        "\t\tsong = song_items[0]['external_urls']['spotify']\n",
        "\t\twebbrowser.open(song)\n",
        "\t\tprint('Song has opened in your browser.')\n",
        "\telif user_input == 0:\n",
        "\t\tprint(\"Good Bye, Have a great day!\")\n",
        "\t\tbreak\n",
        "\telse:\n",
        "\t\tprint(\"Please enter valid user-input.\")\n"
      ],
      "metadata": {
        "id": "vRhYi9xfQ43K"
      },
      "execution_count": null,
      "outputs": []
    }
  ]
}